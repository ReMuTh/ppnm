{
 "cells": [
  {
   "cell_type": "code",
   "execution_count": 6,
   "id": "mental-terror",
   "metadata": {},
   "outputs": [],
   "source": [
    "from scipy.integrate import quad,quad_explain;\n",
    "import numpy as np;\n",
    "\n",
    "def testquad(f,a,b,acc=1e-6,eps=1e-6):\n",
    "    (result,error,bibel) = quad(f,a,b,epsrel=acc,epsabs=eps,full_output=1)\n",
    "    print(\"Result:\",result)\n",
    "    print(\"Evaluations:\",bibel['neval'])"
   ]
  },
  {
   "cell_type": "code",
   "execution_count": 11,
   "id": "single-cause",
   "metadata": {},
   "outputs": [
    {
     "name": "stdout",
     "output_type": "stream",
     "text": [
      "Result: 1.5707963267948983\n",
      "Evaluations: 399\n",
      "Result: 0.6666666666666669\n",
      "Evaluations: 231\n",
      "Result: 1.9999999999999984\n",
      "Evaluations: 231\n",
      "Result: 6.283185307179118\n",
      "Evaluations: 273\n",
      "Result: -4.000000000000085\n",
      "Evaluations: 315\n",
      "Result: 2.221501482512777e-16\n",
      "Evaluations: 21\n"
     ]
    }
   ],
   "source": [
    "testquad(lambda x:np.sqrt(1-x**2),-1,1);\n",
    "testquad(lambda x:np.sqrt(x),0,1);\n",
    "testquad(lambda x:1/np.sqrt(x),0,1);\n",
    "testquad(lambda x:4/np.sqrt(1-x*x),0,1);\n",
    "testquad(lambda x:np.log(x)/np.sqrt(x),0,1);\n",
    "testquad(lambda x:np.sin(x),0,2*np.pi);"
   ]
  },
  {
   "cell_type": "code",
   "execution_count": 8,
   "id": "favorite-dictionary",
   "metadata": {},
   "outputs": [
    {
     "name": "stdout",
     "output_type": "stream",
     "text": [
      "Result: -4.000000000000085\n",
      "Evaluations: 315\n",
      "Result: 0.7272983241778557\n",
      "Evaluations: 189\n"
     ]
    }
   ],
   "source": [
    "testquad(lambda x:np.log(x)/np.sqrt(x),0,1,1e-4,1e-4);\n",
    "testquad(lambda x:np.sqrt(np.tan(x)),0,1,1e-4,1e-4);\n"
   ]
  },
  {
   "cell_type": "code",
   "execution_count": 21,
   "id": "opened-justice",
   "metadata": {},
   "outputs": [
    {
     "name": "stdout",
     "output_type": "stream",
     "text": [
      "Result: 1.0\n",
      "Evaluations: 15\n",
      "Result: 1.5707963267948966\n",
      "Evaluations: 45\n",
      "Result: 1.7724538509055139\n",
      "Evaluations: 210\n"
     ]
    }
   ],
   "source": [
    "# Part C infinate limits\n",
    "\n",
    "testquad(lambda x:1/x**2,1,np.inf);\n",
    "testquad(lambda x:1/(1+x**2),-np.inf,0);\n",
    "testquad(lambda x:np.exp(-x**2),-np.inf,np.inf);\n"
   ]
  },
  {
   "cell_type": "code",
   "execution_count": null,
   "id": "higher-canberra",
   "metadata": {},
   "outputs": [],
   "source": []
  }
 ],
 "metadata": {
  "kernelspec": {
   "display_name": "Python 3",
   "language": "python",
   "name": "python3"
  },
  "language_info": {
   "codemirror_mode": {
    "name": "ipython",
    "version": 3
   },
   "file_extension": ".py",
   "mimetype": "text/x-python",
   "name": "python",
   "nbconvert_exporter": "python",
   "pygments_lexer": "ipython3",
   "version": "3.9.2"
  }
 },
 "nbformat": 4,
 "nbformat_minor": 5
}
